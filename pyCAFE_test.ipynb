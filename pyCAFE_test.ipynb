{
 "cells": [
  {
   "cell_type": "code",
   "execution_count": 1,
   "id": "27c1bd36-456e-490a-b7bf-0a1f4e7d9d41",
   "metadata": {},
   "outputs": [
    {
     "name": "stdout",
     "output_type": "stream",
     "text": [
      "/root/autodl-tmp/pyCAFE_project/pyCAFE/__init__.py\n"
     ]
    }
   ],
   "source": [
    "import sys\n",
    "import os\n",
    "\n",
    "# Add the pyCAFE directory to Python path\n",
    "sys.path.append(os.path.join(os.getcwd(), 'pyCAFE_project'))\n",
    "\n",
    "# Now import pycafe\n",
    "import pyCAFE\n",
    "\n",
    "# Verify it worked\n",
    "print(pyCAFE.__file__)"
   ]
  },
  {
   "cell_type": "code",
   "execution_count": 6,
   "id": "3e47ce12-1e1f-43de-ab1f-27b0e52b412d",
   "metadata": {},
   "outputs": [
    {
     "name": "stdout",
     "output_type": "stream",
     "text": [
      "['CUDA_AVAILABLE', '__all__', '__author__', '__builtins__', '__cached__', '__doc__', '__email__', '__file__', '__loader__', '__name__', '__package__', '__path__', '__spec__', '__version__', 'benchmark', 'benchmark_cpu_vs_gpu', 'clustering', 'core', 'cp', 'cuKMeans', 'extract_and_save_fullres_frames', 'extract_downsampled_frames_gpu', 'extract_frames_kmeans_cpu', 'extract_frames_kmeans_gpu', 'extract_specific_frames', 'extraction', 'get_video_info', 'perform_kmeans_gpu', 'pipelines', 'utils']\n"
     ]
    }
   ],
   "source": [
    "# See what's in the pycafe package\n",
    "print(dir(pyCAFE))"
   ]
  },
  {
   "cell_type": "code",
   "execution_count": 7,
   "id": "1198fdb1-5f56-478c-bc14-444212c75935",
   "metadata": {},
   "outputs": [],
   "source": [
    "from pyCAFE import core, pipelines, clustering, extraction, utils\n",
    "\n",
    "# or\n",
    "import pyCAFE.core\n",
    "import pyCAFE.pipelines\n",
    "import pyCAFE.clustering"
   ]
  },
  {
   "cell_type": "code",
   "execution_count": 8,
   "id": "b7910b2b-21a6-4206-b3fb-13f2bc328fcd",
   "metadata": {},
   "outputs": [
    {
     "name": "stdout",
     "output_type": "stream",
     "text": [
      "['__builtins__', '__cached__', '__doc__', '__file__', '__loader__', '__name__', '__package__', '__spec__', 'extract_downsampled_frames_gpu', 'extract_frames_kmeans_cpu', 'extract_frames_kmeans_gpu', 'extract_specific_frames', 'get_video_info', 'perform_kmeans_gpu', 'time']\n"
     ]
    }
   ],
   "source": [
    "# See what functions/classes are in a module\n",
    "import pyCAFE.core\n",
    "print(dir(pyCAFE.core))"
   ]
  },
  {
   "cell_type": "code",
   "execution_count": null,
   "id": "836f98e2-f2d6-4d7d-b06f-a1609cea1bf7",
   "metadata": {},
   "outputs": [],
   "source": [
    "import pyCAFE\n",
    "\n",
    "# Basic usage\n",
    "frames, timing = pyCAFE.extract_frames_kmeans_gpu(\n",
    "    video_path=\"004-20221221.avi\",\n",
    "    output_dir=\"./frames\",\n",
    "    n_frames=50,\n",
    "    step=5\n",
    ")\n",
    "\n",
    "print(f\"Extracted {len(frames)} frames in {timing['total_time']:.2f}s\")"
   ]
  },
  {
   "cell_type": "code",
   "execution_count": null,
   "id": "3151e057-6642-4e6e-ada0-20f1b32ad60f",
   "metadata": {},
   "outputs": [],
   "source": [
    "import pyCAFE\n",
    "\n",
    "# Get video information\n",
    "info = pyCAFE.get_video_info(\"004-20221221.avi\")\n",
    "print(f\"Video: {info['nframes']} frames, {info['fps']:.2f} FPS\")\n",
    "\n",
    "# Advanced extraction with custom parameters\n",
    "frames, timing = pyCAFE.extract_frames_kmeans_gpu(\n",
    "    video_path=\"004-20221221.avi\",\n",
    "    output_dir=\"./frames\",\n",
    "    n_frames=100,\n",
    "    start_time=0.1,      # Start at 10%\n",
    "    end_time=0.9,        # End at 90%\n",
    "    step=10,             # Sample every 10th frame\n",
    "    resize_width=50,     # Larger thumbnails for clustering\n",
    "    use_color=True,      # Use RGB (more accurate but slower)\n",
    "    chunk_size=2500,     # Manual chunk size\n",
    "    max_iter=200,        # More K-means iterations\n",
    "    random_state=42      # Reproducible results\n",
    ")"
   ]
  },
  {
   "cell_type": "code",
   "execution_count": 3,
   "id": "9f036b01-4fd1-4f10-bf0d-93fcb5c515af",
   "metadata": {},
   "outputs": [
    {
     "name": "stdout",
     "output_type": "stream",
     "text": [
      "======================================================================\n",
      "🔥 BENCHMARK: CPU vs GPU\n",
      "======================================================================\n",
      "\n",
      "🚀 GPU Test...\n",
      "\n",
      "======================================================================\n",
      "VIDEO INFORMATION (GPU MODE)\n",
      "======================================================================\n",
      "Path: LL1-1_BalbcJ.mp4\n",
      "Total frames: 99150\n",
      "FPS: 30.00\n",
      "Duration: 3305.00s\n",
      "Resolution: 480x480\n",
      "\n",
      "======================================================================\n",
      "EXTRACTION PARAMETERS\n",
      "======================================================================\n",
      "Frame range: 0 - 99150\n",
      "Sampling step: 5\n",
      "Frames to extract: 50\n",
      "Clustering resize: 30px\n",
      "Use color: False\n",
      "Chunk size: auto\n",
      "\n",
      "======================================================================\n",
      "STEP 1: EXTRACTING FRAMES (GPU - NVIDIA DALI)\n",
      "======================================================================\n",
      "\n",
      "📹 Extracting 19830 downsampled frames on GPU...\n",
      "   Range: 0-99150, step: 5\n",
      "   Resize: 30, Color: False\n",
      "   Auto chunk size: 3000\n",
      "   Processing in 7 chunks\n",
      "   (Prevents slowdown by rebuilding pipeline)\n",
      "\n"
     ]
    },
    {
     "name": "stderr",
     "output_type": "stream",
     "text": [
      "Chunk 1/7: 100%|██████████████████████████████████████████| 3000/3000 [00:01<00:00, 2167.09frames/s]\n"
     ]
    },
    {
     "name": "stdout",
     "output_type": "stream",
     "text": [
      "   ✅ Chunk 1/7 complete: 3000 frames\n",
      "\n"
     ]
    },
    {
     "name": "stderr",
     "output_type": "stream",
     "text": [
      "Chunk 2/7: 100%|██████████████████████████████████████████| 3000/3000 [00:01<00:00, 2560.08frames/s]\n"
     ]
    },
    {
     "name": "stdout",
     "output_type": "stream",
     "text": [
      "   ✅ Chunk 2/7 complete: 3000 frames\n",
      "\n"
     ]
    },
    {
     "name": "stderr",
     "output_type": "stream",
     "text": [
      "Chunk 3/7: 100%|██████████████████████████████████████████| 3000/3000 [00:01<00:00, 2538.43frames/s]\n"
     ]
    },
    {
     "name": "stdout",
     "output_type": "stream",
     "text": [
      "   ✅ Chunk 3/7 complete: 3000 frames\n",
      "\n"
     ]
    },
    {
     "name": "stderr",
     "output_type": "stream",
     "text": [
      "Chunk 4/7: 100%|██████████████████████████████████████████| 3000/3000 [00:01<00:00, 2556.57frames/s]\n"
     ]
    },
    {
     "name": "stdout",
     "output_type": "stream",
     "text": [
      "   ✅ Chunk 4/7 complete: 3000 frames\n",
      "\n"
     ]
    },
    {
     "name": "stderr",
     "output_type": "stream",
     "text": [
      "Chunk 5/7: 100%|██████████████████████████████████████████| 3000/3000 [00:01<00:00, 2537.60frames/s]\n"
     ]
    },
    {
     "name": "stdout",
     "output_type": "stream",
     "text": [
      "   ✅ Chunk 5/7 complete: 3000 frames\n",
      "\n"
     ]
    },
    {
     "name": "stderr",
     "output_type": "stream",
     "text": [
      "Chunk 6/7: 100%|██████████████████████████████████████████| 3000/3000 [00:01<00:00, 2543.37frames/s]\n"
     ]
    },
    {
     "name": "stdout",
     "output_type": "stream",
     "text": [
      "   ✅ Chunk 6/7 complete: 3000 frames\n",
      "\n"
     ]
    },
    {
     "name": "stderr",
     "output_type": "stream",
     "text": [
      "Chunk 7/7: 100%|██████████████████████████████████████████| 1830/1830 [00:00<00:00, 2305.32frames/s]\n"
     ]
    },
    {
     "name": "stdout",
     "output_type": "stream",
     "text": [
      "   ✅ Chunk 7/7 complete: 1830 frames\n",
      "\n",
      "🔗 Combining chunks...\n",
      "↗️  Moving data to GPU (CuPy array)\n",
      "GPU memory used: 0.07 GB\n",
      "\n",
      "✅ Extracted 19830 frames\n",
      "   Shape: (19830, 30, 30)\n",
      "✅ Extracted frames in 35.86s\n",
      "\n",
      "======================================================================\n",
      "STEP 2: K-MEANS CLUSTERING (GPU - cuML)\n",
      "======================================================================\n",
      "Clustering data shape: (19830, 900)\n",
      "Number of clusters: 50\n",
      "Max iterations: 100\n",
      "Using cuML KMeans (GPU acceleration)\n",
      "Fitting k-means on GPU...\n",
      "✅ K-means converged\n",
      "   Iterations: 7\n",
      "\n",
      "Selecting representative frames...\n",
      "✅ Selected 50 representative frames\n",
      "\n",
      "Cluster size distribution:\n",
      "   Min: 24, Max: 3096, Mean: 396.6\n",
      "✅ K-means completed in 0.19s\n",
      "\n",
      "======================================================================\n",
      "STEP 3: EXTRACTING FULL-RESOLUTION FRAMES\n",
      "======================================================================\n",
      "Extracting 50 frames at full resolution...\n"
     ]
    },
    {
     "name": "stderr",
     "output_type": "stream",
     "text": [
      "Extracting frames: 100%|██████████| 50/50 [00:00<00:00, 78.90it/s]\n"
     ]
    },
    {
     "name": "stdout",
     "output_type": "stream",
     "text": [
      "✅ Saved 50 frames to ./gpu_output\n",
      "✅ Extracted full-res frames in 0.65s\n",
      "\n",
      "======================================================================\n",
      "✅ GPU EXTRACTION COMPLETE\n",
      "======================================================================\n",
      "Step 1 (Frame extraction):    35.86s ( 97.7%)\n",
      "Step 2 (K-means):              0.19s (  0.5%)\n",
      "Step 3 (Full-res extract):     0.65s (  1.8%)\n",
      "----------------------------------------------------------------------\n",
      "TOTAL TIME:                   36.69s\n",
      "Extracted 50 frames\n",
      "Output directory: ./gpu_output\n",
      "\n",
      "💻 CPU Test...\n",
      "\n",
      "======================================================================\n",
      "VIDEO INFORMATION (CPU MODE)\n",
      "======================================================================\n",
      "Path: LL1-1_BalbcJ.mp4\n",
      "Total frames: 99150\n",
      "FPS: 30.00\n",
      "Duration: 3305.00s\n",
      "Resolution: 480x480\n",
      "\n",
      "======================================================================\n",
      "EXTRACTION PARAMETERS\n",
      "======================================================================\n",
      "Frame range: 0 - 99150\n",
      "Sampling step: 5\n",
      "Frames to extract: 50\n",
      "Clustering resize: 30px\n",
      "Use color: False\n",
      "\n",
      "======================================================================\n",
      "STEP 1: EXTRACTING FRAMES (CPU - OpenCV)\n",
      "======================================================================\n"
     ]
    },
    {
     "name": "stderr",
     "output_type": "stream",
     "text": [
      "Reading frames: 100%|██████████| 19830/19830 [01:58<00:00, 166.82it/s]\n"
     ]
    },
    {
     "name": "stdout",
     "output_type": "stream",
     "text": [
      "✅ Extracted 19830 frames in 118.95s\n",
      "   Speed: 166.7 frames/s\n",
      "\n",
      "======================================================================\n",
      "STEP 2: K-MEANS CLUSTERING (CPU - scikit-learn)\n",
      "======================================================================\n",
      "Clustering data shape: (19830, 900)\n",
      "Number of clusters: 50\n",
      "✅ K-means converged in 24.87s\n",
      "   Iterations: 81\n",
      "\n",
      "======================================================================\n",
      "STEP 3: EXTRACTING FULL-RESOLUTION FRAMES\n",
      "======================================================================\n",
      "Extracting 50 frames at full resolution...\n"
     ]
    },
    {
     "name": "stderr",
     "output_type": "stream",
     "text": [
      "Extracting frames: 100%|██████████| 50/50 [00:00<00:00, 76.48it/s]"
     ]
    },
    {
     "name": "stdout",
     "output_type": "stream",
     "text": [
      "✅ Saved 50 frames to ./cpu_output\n",
      "✅ Extracted full-res frames in 0.68s\n",
      "\n",
      "======================================================================\n",
      "✅ CPU EXTRACTION COMPLETE\n",
      "======================================================================\n",
      "Step 1 (Frame extraction):   118.95s ( 82.3%)\n",
      "Step 2 (K-means):             24.87s ( 17.2%)\n",
      "Step 3 (Full-res extract):     0.68s (  0.5%)\n",
      "----------------------------------------------------------------------\n",
      "TOTAL TIME:                  144.50s\n",
      "Extracted 50 frames\n",
      "Output directory: ./cpu_output\n",
      "\n",
      "======================================================================\n",
      "📊 BENCHMARK RESULTS - CPU vs GPU COMPARISON\n",
      "======================================================================\n",
      "\n",
      "Step                                CPU (s)      GPU (s)      Speedup\n",
      "----------------------------------------------------------------------\n",
      "1. Frame Extraction                  118.95        35.86        3.32x\n",
      "2. K-means Clustering                 24.87         0.19      134.28x\n",
      "3. Full-res Extraction                 0.68         0.65        1.04x\n",
      "----------------------------------------------------------------------\n",
      "TOTAL                                144.50        36.69        3.94x\n",
      "======================================================================\n",
      "\n",
      "🎯 OVERALL SPEEDUP: 3.94x faster with GPU\n",
      "\n",
      "✅ CPU extracted 50 frames in 144.50s\n",
      "✅ GPU extracted 50 frames in 36.69s\n",
      "\n",
      "💾 CPU output: ./cpu_output/\n",
      "💾 GPU output: ./gpu_output/\n",
      "GPU is 3.94x faster\n"
     ]
    },
    {
     "name": "stderr",
     "output_type": "stream",
     "text": [
      "\n"
     ]
    }
   ],
   "source": [
    "# Benchmark CPU vs GPU\n",
    "results = pyCAFE.benchmark_cpu_vs_gpu(\n",
    "    video_path=\"LL1-1_BalbcJ.mp4\",\n",
    "    n_frames=50,\n",
    "    step=5\n",
    ")\n",
    "print(f\"GPU is {results['speedup']:.2f}x faster\")"
   ]
  },
  {
   "cell_type": "code",
   "execution_count": 4,
   "id": "8b6a9a54-4913-4822-9152-c98000a77d9c",
   "metadata": {},
   "outputs": [
    {
     "name": "stdout",
     "output_type": "stream",
     "text": [
      "======================================================================\n",
      "🔥 BENCHMARK: CPU vs GPU\n",
      "======================================================================\n",
      "\n",
      "🚀 GPU Test...\n",
      "\n",
      "======================================================================\n",
      "VIDEO INFORMATION (GPU MODE)\n",
      "======================================================================\n",
      "Path: 95-WT-male-56-20200615.avi\n",
      "Total frames: 27000\n",
      "FPS: 30.00\n",
      "Duration: 900.00s\n",
      "Resolution: 640x480\n",
      "\n",
      "======================================================================\n",
      "EXTRACTION PARAMETERS\n",
      "======================================================================\n",
      "Frame range: 0 - 27000\n",
      "Sampling step: 5\n",
      "Frames to extract: 50\n",
      "Clustering resize: 30px\n",
      "Use color: False\n",
      "Chunk size: auto\n",
      "\n",
      "======================================================================\n",
      "STEP 1: EXTRACTING FRAMES (GPU - NVIDIA DALI)\n",
      "======================================================================\n",
      "\n",
      "📹 Extracting 5400 downsampled frames on GPU...\n",
      "   Range: 0-27000, step: 5\n",
      "   Resize: 30, Color: False\n",
      "   Auto chunk size: 2000\n",
      "   Processing in 3 chunks\n",
      "   (Prevents slowdown by rebuilding pipeline)\n",
      "\n"
     ]
    },
    {
     "name": "stderr",
     "output_type": "stream",
     "text": [
      "Chunk 1/3: 100%|██████████████████████████████████████████| 2000/2000 [00:01<00:00, 1606.18frames/s]\n"
     ]
    },
    {
     "name": "stdout",
     "output_type": "stream",
     "text": [
      "   ✅ Chunk 1/3 complete: 2000 frames\n",
      "\n"
     ]
    },
    {
     "name": "stderr",
     "output_type": "stream",
     "text": [
      "Chunk 2/3: 100%|██████████████████████████████████████████| 2000/2000 [00:01<00:00, 1657.76frames/s]\n"
     ]
    },
    {
     "name": "stdout",
     "output_type": "stream",
     "text": [
      "   ✅ Chunk 2/3 complete: 2000 frames\n",
      "\n"
     ]
    },
    {
     "name": "stderr",
     "output_type": "stream",
     "text": [
      "Chunk 3/3: 100%|██████████████████████████████████████████| 1400/1400 [00:00<00:00, 1502.64frames/s]\n"
     ]
    },
    {
     "name": "stdout",
     "output_type": "stream",
     "text": [
      "   ✅ Chunk 3/3 complete: 1400 frames\n",
      "\n",
      "🔗 Combining chunks...\n",
      "↗️  Moving data to GPU (CuPy array)\n",
      "GPU memory used: 0.03 GB\n",
      "\n",
      "✅ Extracted 5400 frames\n",
      "   Shape: (5400, 30, 40)\n",
      "✅ Extracted frames in 8.32s\n",
      "\n",
      "======================================================================\n",
      "STEP 2: K-MEANS CLUSTERING (GPU - cuML)\n",
      "======================================================================\n",
      "Clustering data shape: (5400, 1200)\n",
      "Number of clusters: 50\n",
      "Max iterations: 100\n",
      "Using cuML KMeans (GPU acceleration)\n",
      "Fitting k-means on GPU...\n",
      "✅ K-means converged\n",
      "   Iterations: 2\n",
      "\n",
      "Selecting representative frames...\n",
      "✅ Selected 50 representative frames\n",
      "\n",
      "Cluster size distribution:\n",
      "   Min: 22, Max: 509, Mean: 108.0\n",
      "✅ K-means completed in 0.09s\n",
      "\n",
      "======================================================================\n",
      "STEP 3: EXTRACTING FULL-RESOLUTION FRAMES\n",
      "======================================================================\n",
      "Extracting 50 frames at full resolution...\n"
     ]
    },
    {
     "name": "stderr",
     "output_type": "stream",
     "text": [
      "Extracting frames: 100%|██████████| 50/50 [00:01<00:00, 46.04it/s]\n"
     ]
    },
    {
     "name": "stdout",
     "output_type": "stream",
     "text": [
      "✅ Saved 50 frames to ./gpu_output\n",
      "✅ Extracted full-res frames in 1.09s\n",
      "\n",
      "======================================================================\n",
      "✅ GPU EXTRACTION COMPLETE\n",
      "======================================================================\n",
      "Step 1 (Frame extraction):     8.32s ( 87.5%)\n",
      "Step 2 (K-means):              0.09s (  1.0%)\n",
      "Step 3 (Full-res extract):     1.09s ( 11.5%)\n",
      "----------------------------------------------------------------------\n",
      "TOTAL TIME:                    9.51s\n",
      "Extracted 50 frames\n",
      "Output directory: ./gpu_output\n",
      "\n",
      "💻 CPU Test...\n",
      "\n",
      "======================================================================\n",
      "VIDEO INFORMATION (CPU MODE)\n",
      "======================================================================\n",
      "Path: 95-WT-male-56-20200615.avi\n",
      "Total frames: 27000\n",
      "FPS: 30.00\n",
      "Duration: 900.00s\n",
      "Resolution: 640x480\n",
      "\n",
      "======================================================================\n",
      "EXTRACTION PARAMETERS\n",
      "======================================================================\n",
      "Frame range: 0 - 27000\n",
      "Sampling step: 5\n",
      "Frames to extract: 50\n",
      "Clustering resize: 30px\n",
      "Use color: False\n",
      "\n",
      "======================================================================\n",
      "STEP 1: EXTRACTING FRAMES (CPU - OpenCV)\n",
      "======================================================================\n"
     ]
    },
    {
     "name": "stderr",
     "output_type": "stream",
     "text": [
      "Reading frames: 100%|██████████| 5400/5400 [01:00<00:00, 89.65it/s]\n"
     ]
    },
    {
     "name": "stdout",
     "output_type": "stream",
     "text": [
      "✅ Extracted 5400 frames in 60.25s\n",
      "   Speed: 89.6 frames/s\n",
      "\n",
      "======================================================================\n",
      "STEP 2: K-MEANS CLUSTERING (CPU - scikit-learn)\n",
      "======================================================================\n",
      "Clustering data shape: (5400, 660)\n",
      "Number of clusters: 50\n",
      "✅ K-means converged in 5.35s\n",
      "   Iterations: 48\n",
      "\n",
      "======================================================================\n",
      "STEP 3: EXTRACTING FULL-RESOLUTION FRAMES\n",
      "======================================================================\n",
      "Extracting 50 frames at full resolution...\n"
     ]
    },
    {
     "name": "stderr",
     "output_type": "stream",
     "text": [
      "Extracting frames: 100%|██████████| 50/50 [00:01<00:00, 46.34it/s]"
     ]
    },
    {
     "name": "stdout",
     "output_type": "stream",
     "text": [
      "✅ Saved 50 frames to ./cpu_output\n",
      "✅ Extracted full-res frames in 1.09s\n",
      "\n",
      "======================================================================\n",
      "✅ CPU EXTRACTION COMPLETE\n",
      "======================================================================\n",
      "Step 1 (Frame extraction):    60.25s ( 90.3%)\n",
      "Step 2 (K-means):              5.35s (  8.0%)\n",
      "Step 3 (Full-res extract):     1.09s (  1.6%)\n",
      "----------------------------------------------------------------------\n",
      "TOTAL TIME:                   66.69s\n",
      "Extracted 50 frames\n",
      "Output directory: ./cpu_output\n",
      "\n",
      "======================================================================\n",
      "📊 BENCHMARK RESULTS - CPU vs GPU COMPARISON\n",
      "======================================================================\n",
      "\n",
      "Step                                CPU (s)      GPU (s)      Speedup\n",
      "----------------------------------------------------------------------\n",
      "1. Frame Extraction                   60.25         8.32        7.24x\n",
      "2. K-means Clustering                  5.35         0.09       56.90x\n",
      "3. Full-res Extraction                 1.09         1.09        0.99x\n",
      "----------------------------------------------------------------------\n",
      "TOTAL                                 66.69         9.51        7.01x\n",
      "======================================================================\n",
      "\n",
      "🎯 OVERALL SPEEDUP: 7.01x faster with GPU\n",
      "\n",
      "✅ CPU extracted 50 frames in 66.69s\n",
      "✅ GPU extracted 50 frames in 9.51s\n",
      "\n",
      "💾 CPU output: ./cpu_output/\n",
      "💾 GPU output: ./gpu_output/\n",
      "GPU is 7.01x faster\n"
     ]
    },
    {
     "name": "stderr",
     "output_type": "stream",
     "text": [
      "\n"
     ]
    }
   ],
   "source": [
    "# Benchmark CPU vs GPU\n",
    "results = pyCAFE.benchmark_cpu_vs_gpu(\n",
    "    video_path=\"95-WT-male-56-20200615.avi\",\n",
    "    n_frames=50,\n",
    "    step=5\n",
    ")\n",
    "print(f\"GPU is {results['speedup']:.2f}x faster\")"
   ]
  },
  {
   "cell_type": "code",
   "execution_count": 5,
   "id": "94702fa4-4afd-4f6c-ad16-d7c23c1f45b8",
   "metadata": {},
   "outputs": [
    {
     "name": "stdout",
     "output_type": "stream",
     "text": [
      "======================================================================\n",
      "🔥 BENCHMARK: CPU vs GPU\n",
      "======================================================================\n",
      "\n",
      "🚀 GPU Test...\n",
      "\n",
      "======================================================================\n",
      "VIDEO INFORMATION (GPU MODE)\n",
      "======================================================================\n",
      "Path: 2018-4-30_NP_A11_F_N_S_25.mp4\n",
      "Total frames: 1981\n",
      "FPS: 30.02\n",
      "Duration: 66.00s\n",
      "Resolution: 1280x720\n",
      "\n",
      "======================================================================\n",
      "EXTRACTION PARAMETERS\n",
      "======================================================================\n",
      "Frame range: 0 - 1981\n",
      "Sampling step: 5\n",
      "Frames to extract: 50\n",
      "Clustering resize: 30px\n",
      "Use color: False\n",
      "Chunk size: auto\n",
      "\n",
      "======================================================================\n",
      "STEP 1: EXTRACTING FRAMES (GPU - NVIDIA DALI)\n",
      "======================================================================\n",
      "\n",
      "📹 Extracting 397 downsampled frames on GPU...\n",
      "   Range: 0-1981, step: 5\n",
      "   Resize: 30, Color: False\n",
      "   Auto chunk size: 397\n"
     ]
    },
    {
     "name": "stderr",
     "output_type": "stream",
     "text": [
      "Chunk 1/1: 100%|█████████████████████████████████████████████| 397/397 [00:00<00:00, 682.29frames/s]\n"
     ]
    },
    {
     "name": "stdout",
     "output_type": "stream",
     "text": [
      "   ✅ Chunk 1/1 complete: 397 frames\n",
      "\n",
      "↗️  Moving data to GPU (CuPy array)\n",
      "GPU memory used: 0.00 GB\n",
      "\n",
      "✅ Extracted 397 frames\n",
      "   Shape: (397, 30, 53)\n",
      "✅ Extracted frames in 1.05s\n",
      "\n",
      "======================================================================\n",
      "STEP 2: K-MEANS CLUSTERING (GPU - cuML)\n",
      "======================================================================\n",
      "Clustering data shape: (397, 1590)\n",
      "Number of clusters: 50\n",
      "Max iterations: 100\n",
      "Using cuML KMeans (GPU acceleration)\n",
      "Fitting k-means on GPU...\n",
      "✅ K-means converged\n",
      "   Iterations: 101\n",
      "\n",
      "Selecting representative frames...\n",
      "⚠️  Cluster 0 is empty, skipping\n",
      "⚠️  Cluster 1 is empty, skipping\n",
      "⚠️  Cluster 2 is empty, skipping\n",
      "⚠️  Cluster 3 is empty, skipping\n",
      "⚠️  Cluster 4 is empty, skipping\n",
      "⚠️  Cluster 5 is empty, skipping\n",
      "⚠️  Cluster 7 is empty, skipping\n",
      "⚠️  Cluster 8 is empty, skipping\n",
      "⚠️  Cluster 10 is empty, skipping\n",
      "⚠️  Cluster 12 is empty, skipping\n",
      "⚠️  Cluster 13 is empty, skipping\n",
      "⚠️  Cluster 14 is empty, skipping\n",
      "⚠️  Cluster 15 is empty, skipping\n",
      "⚠️  Cluster 16 is empty, skipping\n",
      "⚠️  Cluster 17 is empty, skipping\n",
      "⚠️  Cluster 19 is empty, skipping\n",
      "⚠️  Cluster 20 is empty, skipping\n",
      "⚠️  Cluster 21 is empty, skipping\n",
      "⚠️  Cluster 22 is empty, skipping\n",
      "⚠️  Cluster 24 is empty, skipping\n",
      "⚠️  Cluster 25 is empty, skipping\n",
      "⚠️  Cluster 26 is empty, skipping\n",
      "⚠️  Cluster 28 is empty, skipping\n",
      "⚠️  Cluster 29 is empty, skipping\n",
      "⚠️  Cluster 30 is empty, skipping\n",
      "⚠️  Cluster 32 is empty, skipping\n",
      "⚠️  Cluster 33 is empty, skipping\n",
      "⚠️  Cluster 34 is empty, skipping\n",
      "⚠️  Cluster 35 is empty, skipping\n",
      "⚠️  Cluster 36 is empty, skipping\n",
      "⚠️  Cluster 37 is empty, skipping\n",
      "⚠️  Cluster 38 is empty, skipping\n",
      "⚠️  Cluster 39 is empty, skipping\n",
      "⚠️  Cluster 40 is empty, skipping\n",
      "⚠️  Cluster 41 is empty, skipping\n",
      "⚠️  Cluster 42 is empty, skipping\n",
      "⚠️  Cluster 43 is empty, skipping\n",
      "⚠️  Cluster 44 is empty, skipping\n",
      "⚠️  Cluster 45 is empty, skipping\n",
      "⚠️  Cluster 46 is empty, skipping\n",
      "⚠️  Cluster 47 is empty, skipping\n",
      "⚠️  Cluster 48 is empty, skipping\n",
      "⚠️  Cluster 49 is empty, skipping\n",
      "✅ Selected 7 representative frames\n",
      "\n",
      "Cluster size distribution:\n",
      "   Min: 5, Max: 170, Mean: 56.7\n",
      "✅ K-means completed in 0.09s\n",
      "\n",
      "======================================================================\n",
      "STEP 3: EXTRACTING FULL-RESOLUTION FRAMES\n",
      "======================================================================\n",
      "Extracting 7 frames at full resolution...\n"
     ]
    },
    {
     "name": "stderr",
     "output_type": "stream",
     "text": [
      "Extracting frames: 100%|██████████| 7/7 [00:00<00:00,  8.32it/s]\n"
     ]
    },
    {
     "name": "stdout",
     "output_type": "stream",
     "text": [
      "✅ Saved 7 frames to ./gpu_output\n",
      "✅ Extracted full-res frames in 0.87s\n",
      "\n",
      "======================================================================\n",
      "✅ GPU EXTRACTION COMPLETE\n",
      "======================================================================\n",
      "Step 1 (Frame extraction):     1.05s ( 52.1%)\n",
      "Step 2 (K-means):              0.09s (  4.7%)\n",
      "Step 3 (Full-res extract):     0.87s ( 43.2%)\n",
      "----------------------------------------------------------------------\n",
      "TOTAL TIME:                    2.01s\n",
      "Extracted 7 frames\n",
      "Output directory: ./gpu_output\n",
      "\n",
      "💻 CPU Test...\n",
      "\n",
      "======================================================================\n",
      "VIDEO INFORMATION (CPU MODE)\n",
      "======================================================================\n",
      "Path: 2018-4-30_NP_A11_F_N_S_25.mp4\n",
      "Total frames: 1981\n",
      "FPS: 30.02\n",
      "Duration: 66.00s\n",
      "Resolution: 1280x720\n",
      "\n",
      "======================================================================\n",
      "EXTRACTION PARAMETERS\n",
      "======================================================================\n",
      "Frame range: 0 - 1981\n",
      "Sampling step: 5\n",
      "Frames to extract: 50\n",
      "Clustering resize: 30px\n",
      "Use color: False\n",
      "\n",
      "======================================================================\n",
      "STEP 1: EXTRACTING FRAMES (CPU - OpenCV)\n",
      "======================================================================\n"
     ]
    },
    {
     "name": "stderr",
     "output_type": "stream",
     "text": [
      "Reading frames: 100%|██████████| 397/397 [00:24<00:00, 16.38it/s]\n"
     ]
    },
    {
     "name": "stdout",
     "output_type": "stream",
     "text": [
      "✅ Extracted 397 frames in 24.26s\n",
      "   Speed: 16.4 frames/s\n",
      "\n",
      "======================================================================\n",
      "STEP 2: K-MEANS CLUSTERING (CPU - scikit-learn)\n",
      "======================================================================\n",
      "Clustering data shape: (397, 480)\n",
      "Number of clusters: 50\n",
      "✅ K-means converged in 0.39s\n",
      "   Iterations: 9\n",
      "\n",
      "======================================================================\n",
      "STEP 3: EXTRACTING FULL-RESOLUTION FRAMES\n",
      "======================================================================\n",
      "Extracting 50 frames at full resolution...\n"
     ]
    },
    {
     "name": "stderr",
     "output_type": "stream",
     "text": [
      "Extracting frames: 100%|██████████| 50/50 [00:04<00:00, 10.39it/s]"
     ]
    },
    {
     "name": "stdout",
     "output_type": "stream",
     "text": [
      "✅ Saved 50 frames to ./cpu_output\n",
      "✅ Extracted full-res frames in 4.84s\n",
      "\n",
      "======================================================================\n",
      "✅ CPU EXTRACTION COMPLETE\n",
      "======================================================================\n",
      "Step 1 (Frame extraction):    24.26s ( 82.3%)\n",
      "Step 2 (K-means):              0.39s (  1.3%)\n",
      "Step 3 (Full-res extract):     4.84s ( 16.4%)\n",
      "----------------------------------------------------------------------\n",
      "TOTAL TIME:                   29.48s\n",
      "Extracted 50 frames\n",
      "Output directory: ./cpu_output\n",
      "\n",
      "======================================================================\n",
      "📊 BENCHMARK RESULTS - CPU vs GPU COMPARISON\n",
      "======================================================================\n",
      "\n",
      "Step                                CPU (s)      GPU (s)      Speedup\n",
      "----------------------------------------------------------------------\n",
      "1. Frame Extraction                   24.26         1.05       23.15x\n",
      "2. K-means Clustering                  0.39         0.09        4.10x\n",
      "3. Full-res Extraction                 4.84         0.87        5.56x\n",
      "----------------------------------------------------------------------\n",
      "TOTAL                                 29.48         2.01       14.65x\n",
      "======================================================================\n",
      "\n",
      "🎯 OVERALL SPEEDUP: 14.65x faster with GPU\n",
      "\n",
      "✅ CPU extracted 50 frames in 29.48s\n",
      "✅ GPU extracted 7 frames in 2.01s\n",
      "\n",
      "💾 CPU output: ./cpu_output/\n",
      "💾 GPU output: ./gpu_output/\n",
      "GPU is 14.65x faster\n"
     ]
    },
    {
     "name": "stderr",
     "output_type": "stream",
     "text": [
      "\n"
     ]
    }
   ],
   "source": [
    "# Benchmark CPU vs GPU\n",
    "results = pyCAFE.benchmark_cpu_vs_gpu(\n",
    "    video_path=\"2018-4-30_NP_A11_F_N_S_25.mp4\",\n",
    "    n_frames=50,\n",
    "    step=5\n",
    ")\n",
    "print(f\"GPU is {results['speedup']:.2f}x faster\")"
   ]
  },
  {
   "cell_type": "code",
   "execution_count": null,
   "id": "db5cf5cb-e631-4933-b1b4-f64703714ec9",
   "metadata": {},
   "outputs": [],
   "source": []
  }
 ],
 "metadata": {
  "kernelspec": {
   "display_name": "Python 3 (ipykernel)",
   "language": "python",
   "name": "python3"
  },
  "language_info": {
   "codemirror_mode": {
    "name": "ipython",
    "version": 3
   },
   "file_extension": ".py",
   "mimetype": "text/x-python",
   "name": "python",
   "nbconvert_exporter": "python",
   "pygments_lexer": "ipython3",
   "version": "3.12.2"
  }
 },
 "nbformat": 4,
 "nbformat_minor": 5
}
