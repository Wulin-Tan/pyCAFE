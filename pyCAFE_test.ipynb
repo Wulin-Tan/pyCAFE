{
 "cells": [
  {
   "cell_type": "code",
   "execution_count": null,
   "id": "27c1bd36-456e-490a-b7bf-0a1f4e7d9d41",
   "metadata": {},
   "outputs": [],
   "source": [
    "import sys\n",
    "import os\n",
    "\n",
    "# Add the pyCAFE directory to Python path\n",
    "sys.path.append(os.path.join(os.getcwd(), 'pyCAFE_project'))\n",
    "\n",
    "# Now import pycafe\n",
    "import pyCAFE\n",
    "\n",
    "# Verify it worked\n",
    "print(pyCAFE.__file__)"
   ]
  },
  {
   "cell_type": "code",
   "execution_count": null,
   "id": "3e47ce12-1e1f-43de-ab1f-27b0e52b412d",
   "metadata": {},
   "outputs": [],
   "source": [
    "# See what's in the pycafe package\n",
    "print(dir(pyCAFE))"
   ]
  },
  {
   "cell_type": "code",
   "execution_count": null,
   "id": "1198fdb1-5f56-478c-bc14-444212c75935",
   "metadata": {},
   "outputs": [],
   "source": [
    "from pyCAFE import core, pipelines, clustering, extraction, utils\n",
    "\n",
    "# or\n",
    "import pyCAFE.core\n",
    "import pyCAFE.pipelines\n",
    "import pyCAFE.clustering"
   ]
  },
  {
   "cell_type": "code",
   "execution_count": null,
   "id": "b7910b2b-21a6-4206-b3fb-13f2bc328fcd",
   "metadata": {},
   "outputs": [],
   "source": [
    "# See what functions/classes are in a module\n",
    "import pyCAFE.core\n",
    "print(dir(pyCAFE.core))"
   ]
  },
  {
   "cell_type": "code",
   "execution_count": null,
   "id": "836f98e2-f2d6-4d7d-b06f-a1609cea1bf7",
   "metadata": {},
   "outputs": [],
   "source": [
    "import pyCAFE\n",
    "\n",
    "# Basic usage\n",
    "frames, timing = pyCAFE.extract_frames_kmeans_gpu(\n",
    "    video_path=\"004-20221221.avi\",\n",
    "    output_dir=\"./frames\",\n",
    "    n_frames=50,\n",
    "    step=5\n",
    ")\n",
    "\n",
    "print(f\"Extracted {len(frames)} frames in {timing['total_time']:.2f}s\")"
   ]
  },
  {
   "cell_type": "code",
   "execution_count": null,
   "id": "3151e057-6642-4e6e-ada0-20f1b32ad60f",
   "metadata": {},
   "outputs": [],
   "source": [
    "import pyCAFE\n",
    "\n",
    "# Get video information\n",
    "info = pyCAFE.get_video_info(\"004-20221221.avi\")\n",
    "print(f\"Video: {info['nframes']} frames, {info['fps']:.2f} FPS\")\n",
    "\n",
    "# Advanced extraction with custom parameters\n",
    "frames, timing = pyCAFE.extract_frames_kmeans_gpu(\n",
    "    video_path=\"004-20221221.avi\",\n",
    "    output_dir=\"./frames\",\n",
    "    n_frames=100,\n",
    "    start_time=0.1,      # Start at 10%\n",
    "    end_time=0.9,        # End at 90%\n",
    "    step=10,             # Sample every 10th frame\n",
    "    resize_width=50,     # Larger thumbnails for clustering\n",
    "    use_color=True,      # Use RGB (more accurate but slower)\n",
    "    chunk_size=2500,     # Manual chunk size\n",
    "    max_iter=200,        # More K-means iterations\n",
    "    random_state=42      # Reproducible results\n",
    ")"
   ]
  },
  {
   "cell_type": "code",
   "execution_count": null,
   "id": "9f036b01-4fd1-4f10-bf0d-93fcb5c515af",
   "metadata": {},
   "outputs": [],
   "source": [
    "# Benchmark CPU vs GPU\n",
    "results = pyCAFE.benchmark_cpu_vs_gpu(\n",
    "    video_path=\"004-20221221.avi\",\n",
    "    n_frames=50,\n",
    "    step=50\n",
    ")\n",
    "print(f\"GPU is {results['speedup']:.2f}x faster\")"
   ]
  },
  {
   "cell_type": "code",
   "execution_count": null,
   "id": "8b6a9a54-4913-4822-9152-c98000a77d9c",
   "metadata": {},
   "outputs": [],
   "source": []
  }
 ],
 "metadata": {
  "kernelspec": {
   "display_name": "Python 3 (ipykernel)",
   "language": "python",
   "name": "python3"
  },
  "language_info": {
   "codemirror_mode": {
    "name": "ipython",
    "version": 3
   },
   "file_extension": ".py",
   "mimetype": "text/x-python",
   "name": "python",
   "nbconvert_exporter": "python",
   "pygments_lexer": "ipython3",
   "version": "3.12.2"
  }
 },
 "nbformat": 4,
 "nbformat_minor": 5
}
